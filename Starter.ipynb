{
 "cells": [
  {
   "cell_type": "code",
   "execution_count": 1,
   "id": "ad1b86e5",
   "metadata": {},
   "outputs": [],
   "source": [
    "import pandas as pd\n",
    "import numpy as np\n",
    "import seaborn as sns\n",
    "import matplotlib.pyplot as plt\n",
    "import pickle"
   ]
  },
  {
   "cell_type": "code",
   "execution_count": 2,
   "id": "68ba67e9",
   "metadata": {},
   "outputs": [
    {
     "data": {
      "text/plain": [
       "array(['adult', 'backdrop_path', 'belongs_to_collection', 'budget',\n",
       "       'genres', 'homepage', 'id', 'original_language', 'original_title',\n",
       "       'overview', 'popularity', 'poster_path', 'production_companies',\n",
       "       'production_countries', 'release_date', 'revenue', 'runtime',\n",
       "       'spoken_languages', 'status', 'tagline', 'title', 'video',\n",
       "       'vote_average', 'vote_count', 'keywords', 'cast', 'crew',\n",
       "       'imdb_id', 'wikidata_id', 'facebook_id', 'instagram_id',\n",
       "       'twitter_id'], dtype=object)"
      ]
     },
     "execution_count": 2,
     "metadata": {},
     "output_type": "execute_result"
    }
   ],
   "source": [
    "with open('allmoviesclean.pkl', 'rb') as file:\n",
    "    movies_df = pickle.load(file)\n",
    "movies_df.columns.values"
   ]
  },
  {
   "cell_type": "code",
   "execution_count": 3,
   "id": "b09e8b07",
   "metadata": {},
   "outputs": [
    {
     "data": {
      "text/plain": [
       "array(['adult', 'backdrop_path', 'belongs_to_collection', 'budget',\n",
       "       'genres', 'homepage', 'id', 'original_language', 'original_title',\n",
       "       'overview', 'popularity', 'poster_path', 'production_companies',\n",
       "       'production_countries', 'release_date', 'revenue', 'runtime',\n",
       "       'spoken_languages', 'status', 'tagline', 'title', 'video',\n",
       "       'vote_average', 'vote_count', 'keywords', 'cast', 'crew',\n",
       "       'imdb_id', 'wikidata_id', 'facebook_id', 'instagram_id',\n",
       "       'twitter_id'], dtype=object)"
      ]
     },
     "execution_count": 3,
     "metadata": {},
     "output_type": "execute_result"
    }
   ],
   "source": [
    "with open('allmoviesclean.pkl', 'rb') as file:\n",
    "    people_df = pickle.load(file)\n",
    "people_df.columns.values"
   ]
  },
  {
   "cell_type": "code",
   "execution_count": 4,
   "id": "b06e41c5",
   "metadata": {},
   "outputs": [
    {
     "data": {
      "text/plain": [
       "array(['id', 'title', 'text'], dtype=object)"
      ]
     },
     "execution_count": 4,
     "metadata": {},
     "output_type": "execute_result"
    }
   ],
   "source": [
    "with open('scriptsclean.pkl', 'rb') as file:\n",
    "    scripts_df = pickle.load(file)\n",
    "scripts_df.columns.values"
   ]
  }
 ],
 "metadata": {
  "kernelspec": {
   "display_name": "Python 3 (ipykernel)",
   "language": "python",
   "name": "python3"
  },
  "language_info": {
   "codemirror_mode": {
    "name": "ipython",
    "version": 3
   },
   "file_extension": ".py",
   "mimetype": "text/x-python",
   "name": "python",
   "nbconvert_exporter": "python",
   "pygments_lexer": "ipython3",
   "version": "3.9.12"
  }
 },
 "nbformat": 4,
 "nbformat_minor": 5
}
