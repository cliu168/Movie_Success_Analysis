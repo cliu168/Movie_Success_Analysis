{
 "cells": [
  {
   "cell_type": "code",
   "execution_count": 12,
   "id": "ad1b86e5",
   "metadata": {},
   "outputs": [],
   "source": [
    "import pandas as pd\n",
    "import numpy as np\n",
    "import seaborn as sns\n",
    "import matplotlib.pyplot as plt\n",
    "import pickle"
   ]
  },
  {
   "cell_type": "code",
   "execution_count": 58,
   "id": "68ba67e9",
   "metadata": {},
   "outputs": [
    {
     "data": {
      "text/plain": [
       "array(['adult', 'backdrop_path', 'belongs_to_collection', 'budget',\n",
       "       'genres', 'homepage', 'id', 'imdb_id', 'original_language',\n",
       "       'original_title', 'overview', 'popularity', 'poster_path',\n",
       "       'production_companies', 'production_countries', 'release_date',\n",
       "       'revenue', 'runtime', 'spoken_languages', 'status', 'tagline',\n",
       "       'title', 'video', 'vote_average', 'vote_count', 'keywords', 'cast',\n",
       "       'crew'], dtype=object)"
      ]
     },
     "execution_count": 58,
     "metadata": {},
     "output_type": "execute_result"
    }
   ],
   "source": [
    "with open('allmoviesclean.pkl', 'rb') as file:\n",
    "    movies_df = pickle.load(file)\n",
    "movies_df.columns.values"
   ]
  },
  {
   "cell_type": "code",
   "execution_count": null,
   "id": "b09e8b07",
   "metadata": {},
   "outputs": [],
   "source": [
    "with open('allpeopleclean.pkl', 'rb') as file:\n",
    "    people_df = pickle.load(file)\n",
    "people_df.columns.values"
   ]
  }
 ],
 "metadata": {
  "kernelspec": {
   "display_name": "Python 3 (ipykernel)",
   "language": "python",
   "name": "python3"
  },
  "language_info": {
   "codemirror_mode": {
    "name": "ipython",
    "version": 3
   },
   "file_extension": ".py",
   "mimetype": "text/x-python",
   "name": "python",
   "nbconvert_exporter": "python",
   "pygments_lexer": "ipython3",
   "version": "3.9.12"
  }
 },
 "nbformat": 4,
 "nbformat_minor": 5
}
